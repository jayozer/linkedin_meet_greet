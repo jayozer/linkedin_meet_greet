{
 "cells": [
  {
   "cell_type": "code",
   "execution_count": 1,
   "metadata": {},
   "outputs": [
    {
     "data": {
      "text/plain": [
       "True"
      ]
     },
     "execution_count": 1,
     "metadata": {},
     "output_type": "execute_result"
    }
   ],
   "source": [
    "import os\n",
    "import requests\n",
    "from dotenv import load_dotenv\n",
    "\n",
    "load_dotenv()"
   ]
  },
  {
   "cell_type": "code",
   "execution_count": 2,
   "metadata": {},
   "outputs": [],
   "source": [
    "import requests\n",
    "\n",
    "api_key =  os.getenv(\"PROXYCURL_API_KEY\")\n",
    "headers = {'Authorization': 'Bearer ' + api_key}\n",
    "api_endpoint = 'https://nubela.co/proxycurl/api/v2/linkedin'\n",
    "params = {\n",
    "    # 'twitter_profile_url': 'https://x.com/johnrmarty/',\n",
    "    # 'facebook_profile_url': 'https://facebook.com/jayozer/',\n",
    "    'linkedin_profile_url': 'https://linkedin.com/in/jayozer/',\n",
    "    # 'extra': 'include',\n",
    "    # 'github_profile_id': 'include',\n",
    "    # 'facebook_profile_id': 'include',\n",
    "    # 'twitter_profile_id': 'include',\n",
    "    # 'personal_contact_number': 'include',\n",
    "    # 'personal_email': 'include',\n",
    "    # 'inferred_salary': 'include',\n",
    "    # 'skills': 'include',\n",
    "    # 'use_cache': 'if-present',\n",
    "    # 'fallback_to_cache': 'on-error',\n",
    "}\n",
    "response = requests.get(api_endpoint,\n",
    "                        params=params,\n",
    "                        headers=headers)"
   ]
  },
  {
   "cell_type": "code",
   "execution_count": null,
   "metadata": {},
   "outputs": [],
   "source": [
    "import json\n",
    "\n",
    "# Assuming `response.json()` returns a Python dictionary\n",
    "data = response.json()\n",
    "\n",
    "# Convert the dictionary to a JSON-formatted string with double quotes and pretty-printed\n",
    "json_string = json.dumps(data, indent=4)\n",
    "\n",
    "print(json_string)"
   ]
  },
  {
   "cell_type": "markdown",
   "metadata": {},
   "source": [
    "### Create a public gist from the results because we can use requests to get the gist. Make sure to get the RAW content link. The browser link doe snot work. "
   ]
  },
  {
   "cell_type": "code",
   "execution_count": 18,
   "metadata": {},
   "outputs": [],
   "source": [
    "gist_response = requests.get(\"https://gist.githubusercontent.com/jayozer/2e1e84db75bdd07022fe3dd3de1317a6/raw/073dae9cffb7358ce2e258e5abbd21827961ade8/jay-ozer.json\")"
   ]
  },
  {
   "cell_type": "code",
   "execution_count": 20,
   "metadata": {},
   "outputs": [
    {
     "name": "stdout",
     "output_type": "stream",
     "text": [
      "Jay Ozer\n"
     ]
    }
   ],
   "source": [
    "print(gist_response.json()[\"full_name\"])"
   ]
  }
 ],
 "metadata": {
  "kernelspec": {
   "display_name": "ice_breaker-FoF-noCu",
   "language": "python",
   "name": "python3"
  },
  "language_info": {
   "codemirror_mode": {
    "name": "ipython",
    "version": 3
   },
   "file_extension": ".py",
   "mimetype": "text/x-python",
   "name": "python",
   "nbconvert_exporter": "python",
   "pygments_lexer": "ipython3",
   "version": "3.11.6"
  }
 },
 "nbformat": 4,
 "nbformat_minor": 2
}
